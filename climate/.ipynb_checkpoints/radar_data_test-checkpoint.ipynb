{
 "cells": [
  {
   "cell_type": "markdown",
   "metadata": {},
   "source": [
    "# Imports, configs, etc"
   ]
  },
  {
   "cell_type": "code",
   "execution_count": 1,
   "metadata": {
    "collapsed": false
   },
   "outputs": [
    {
     "name": "stdout",
     "output_type": "stream",
     "text": [
      "\n",
      "## You are using the Python ARM Radar Toolkit (Py-ART), an open source\n",
      "## library for working with weather radar data. Py-ART is partly\n",
      "## supported by the U.S. Department of Energy as part of the Atmospheric\n",
      "## Radiation Measurement (ARM) Climate Research Facility, an Office of\n",
      "## Science user facility.\n",
      "##\n",
      "## If you use this software to prepare a publication, please cite:\n",
      "##\n",
      "##     JJ Helmus and SM Collis, JORS 2016, doi: 10.5334/jors.119\n",
      "\n"
     ]
    }
   ],
   "source": [
    "import numpy as np\n",
    "import pandas as pd\n",
    "import datetime\n",
    "import pvlib\n",
    "\n",
    "import matplotlib\n",
    "import matplotlib.pyplot as plt\n",
    "from mpl_toolkits.mplot3d import Axes3D\n",
    "%matplotlib notebook\n",
    "\n",
    "\n",
    "import os, sys\n",
    "lib_path = os.path.abspath(os.path.join('..', 'rdtools'))\n",
    "sys.path.append(lib_path)\n",
    "import filtering\n",
    "\n",
    "import pyart\n",
    "import boto\n",
    "import tempfile"
   ]
  },
  {
   "cell_type": "code",
   "execution_count": 2,
   "metadata": {
    "collapsed": false
   },
   "outputs": [],
   "source": [
    "s3conn = boto.connect_s3(aws_access_key_id=os.environ.get('AWSAccessKeyId'), \n",
    "                         aws_secret_access_key=os.environ.get('AWSSecretKey'))\n",
    "\n",
    "bucket = s3conn.get_bucket('noaa-nexrad-level2')\n",
    "s3key = bucket.get_key('2015/05/15/KVWX/KVWX20150515_080737_V06.gz')"
   ]
  },
  {
   "cell_type": "code",
   "execution_count": 3,
   "metadata": {
    "collapsed": false
   },
   "outputs": [
    {
     "name": "stdout",
     "output_type": "stream",
     "text": [
      "<Key: noaa-nexrad-level2,2016/07/01/KABX/KABX20160701_000147_V06>\n",
      "<Key: noaa-nexrad-level2,2016/07/01/KABX/KABX20160701_000616_V06>\n",
      "<Key: noaa-nexrad-level2,2016/07/01/KABX/KABX20160701_001044_V06>\n",
      "<Key: noaa-nexrad-level2,2016/07/01/KABX/KABX20160701_001514_V06>\n",
      "<Key: noaa-nexrad-level2,2016/07/01/KABX/KABX20160701_001943_V06>\n",
      "<Key: noaa-nexrad-level2,2016/07/01/KABX/KABX20160701_002424_V06>\n",
      "<Key: noaa-nexrad-level2,2016/07/01/KABX/KABX20160701_002906_V06>\n",
      "<Key: noaa-nexrad-level2,2016/07/01/KABX/KABX20160701_003347_V06>\n",
      "<Key: noaa-nexrad-level2,2016/07/01/KABX/KABX20160701_003841_V06>\n",
      "<Key: noaa-nexrad-level2,2016/07/01/KABX/KABX20160701_004324_V06>\n",
      "<Key: noaa-nexrad-level2,2016/07/01/KABX/KABX20160701_004819_V06>\n",
      "<Key: noaa-nexrad-level2,2016/07/01/KABX/KABX20160701_005307_V06>\n",
      "<Key: noaa-nexrad-level2,2016/07/01/KABX/KABX20160701_005809_V06>\n",
      "<Key: noaa-nexrad-level2,2016/07/01/KABX/KABX20160701_010303_V06>\n",
      "<Key: noaa-nexrad-level2,2016/07/01/KABX/KABX20160701_010812_V06>\n",
      "<Key: noaa-nexrad-level2,2016/07/01/KABX/KABX20160701_011306_V06>\n",
      "<Key: noaa-nexrad-level2,2016/07/01/KABX/KABX20160701_011814_V06>\n",
      "<Key: noaa-nexrad-level2,2016/07/01/KABX/KABX20160701_012323_V06>\n",
      "<Key: noaa-nexrad-level2,2016/07/01/KABX/KABX20160701_012818_V06>\n",
      "<Key: noaa-nexrad-level2,2016/07/01/KABX/KABX20160701_013301_V06>\n",
      "<Key: noaa-nexrad-level2,2016/07/01/KABX/KABX20160701_013804_V06>\n",
      "<Key: noaa-nexrad-level2,2016/07/01/KABX/KABX20160701_014306_V06>\n",
      "<Key: noaa-nexrad-level2,2016/07/01/KABX/KABX20160701_014807_V06>\n",
      "<Key: noaa-nexrad-level2,2016/07/01/KABX/KABX20160701_015323_V06>\n",
      "<Key: noaa-nexrad-level2,2016/07/01/KABX/KABX20160701_015852_V06>\n",
      "<Key: noaa-nexrad-level2,2016/07/01/KABX/KABX20160701_020422_V06>\n",
      "<Key: noaa-nexrad-level2,2016/07/01/KABX/KABX20160701_020952_V06>\n",
      "<Key: noaa-nexrad-level2,2016/07/01/KABX/KABX20160701_021521_V06>\n",
      "<Key: noaa-nexrad-level2,2016/07/01/KABX/KABX20160701_022037_V06>\n",
      "<Key: noaa-nexrad-level2,2016/07/01/KABX/KABX20160701_022606_V06>\n",
      "<Key: noaa-nexrad-level2,2016/07/01/KABX/KABX20160701_023108_V06>\n",
      "<Key: noaa-nexrad-level2,2016/07/01/KABX/KABX20160701_023612_V06>\n",
      "<Key: noaa-nexrad-level2,2016/07/01/KABX/KABX20160701_024102_V06>\n",
      "<Key: noaa-nexrad-level2,2016/07/01/KABX/KABX20160701_025047_V06>\n",
      "<Key: noaa-nexrad-level2,2016/07/01/KABX/KABX20160701_030031_V06>\n",
      "<Key: noaa-nexrad-level2,2016/07/01/KABX/KABX20160701_031016_V06>\n",
      "<Key: noaa-nexrad-level2,2016/07/01/KABX/KABX20160701_032001_V06>\n",
      "<Key: noaa-nexrad-level2,2016/07/01/KABX/KABX20160701_032945_V06>\n",
      "<Key: noaa-nexrad-level2,2016/07/01/KABX/KABX20160701_033930_V06>\n",
      "<Key: noaa-nexrad-level2,2016/07/01/KABX/KABX20160701_034346_V06>\n",
      "<Key: noaa-nexrad-level2,2016/07/01/KABX/KABX20160701_034756_V06>\n",
      "<Key: noaa-nexrad-level2,2016/07/01/KABX/KABX20160701_035204_V06>\n",
      "<Key: noaa-nexrad-level2,2016/07/01/KABX/KABX20160701_035612_V06>\n",
      "<Key: noaa-nexrad-level2,2016/07/01/KABX/KABX20160701_040020_V06>\n",
      "<Key: noaa-nexrad-level2,2016/07/01/KABX/KABX20160701_040429_V06>\n",
      "<Key: noaa-nexrad-level2,2016/07/01/KABX/KABX20160701_040837_V06>\n",
      "<Key: noaa-nexrad-level2,2016/07/01/KABX/KABX20160701_041245_V06>\n",
      "<Key: noaa-nexrad-level2,2016/07/01/KABX/KABX20160701_041654_V06>\n",
      "<Key: noaa-nexrad-level2,2016/07/01/KABX/KABX20160701_042102_V06>\n",
      "<Key: noaa-nexrad-level2,2016/07/01/KABX/KABX20160701_042510_V06>\n",
      "<Key: noaa-nexrad-level2,2016/07/01/KABX/KABX20160701_042917_V06>\n",
      "<Key: noaa-nexrad-level2,2016/07/01/KABX/KABX20160701_043326_V06>\n",
      "<Key: noaa-nexrad-level2,2016/07/01/KABX/KABX20160701_043734_V06>\n",
      "<Key: noaa-nexrad-level2,2016/07/01/KABX/KABX20160701_044142_V06>\n",
      "<Key: noaa-nexrad-level2,2016/07/01/KABX/KABX20160701_044551_V06>\n",
      "<Key: noaa-nexrad-level2,2016/07/01/KABX/KABX20160701_044959_V06>\n",
      "<Key: noaa-nexrad-level2,2016/07/01/KABX/KABX20160701_045407_V06>\n",
      "<Key: noaa-nexrad-level2,2016/07/01/KABX/KABX20160701_050013_V06>\n",
      "<Key: noaa-nexrad-level2,2016/07/01/KABX/KABX20160701_050421_V06>\n",
      "<Key: noaa-nexrad-level2,2016/07/01/KABX/KABX20160701_050829_V06>\n",
      "<Key: noaa-nexrad-level2,2016/07/01/KABX/KABX20160701_051237_V06>\n",
      "<Key: noaa-nexrad-level2,2016/07/01/KABX/KABX20160701_051646_V06>\n",
      "<Key: noaa-nexrad-level2,2016/07/01/KABX/KABX20160701_052048_V06>\n",
      "<Key: noaa-nexrad-level2,2016/07/01/KABX/KABX20160701_052450_V06>\n",
      "<Key: noaa-nexrad-level2,2016/07/01/KABX/KABX20160701_052853_V06>\n",
      "<Key: noaa-nexrad-level2,2016/07/01/KABX/KABX20160701_053255_V06>\n",
      "<Key: noaa-nexrad-level2,2016/07/01/KABX/KABX20160701_053657_V06>\n",
      "<Key: noaa-nexrad-level2,2016/07/01/KABX/KABX20160701_054059_V06>\n",
      "<Key: noaa-nexrad-level2,2016/07/01/KABX/KABX20160701_054502_V06>\n",
      "<Key: noaa-nexrad-level2,2016/07/01/KABX/KABX20160701_054905_V06>\n",
      "<Key: noaa-nexrad-level2,2016/07/01/KABX/KABX20160701_055307_V06>\n",
      "<Key: noaa-nexrad-level2,2016/07/01/KABX/KABX20160701_055711_V06>\n",
      "<Key: noaa-nexrad-level2,2016/07/01/KABX/KABX20160701_060113_V06>\n",
      "<Key: noaa-nexrad-level2,2016/07/01/KABX/KABX20160701_060515_V06>\n",
      "<Key: noaa-nexrad-level2,2016/07/01/KABX/KABX20160701_060917_V06>\n",
      "<Key: noaa-nexrad-level2,2016/07/01/KABX/KABX20160701_061320_V06>\n",
      "<Key: noaa-nexrad-level2,2016/07/01/KABX/KABX20160701_061722_V06>\n",
      "<Key: noaa-nexrad-level2,2016/07/01/KABX/KABX20160701_062124_V06>\n",
      "<Key: noaa-nexrad-level2,2016/07/01/KABX/KABX20160701_062527_V06>\n",
      "<Key: noaa-nexrad-level2,2016/07/01/KABX/KABX20160701_062929_V06>\n",
      "<Key: noaa-nexrad-level2,2016/07/01/KABX/KABX20160701_063330_V06>\n",
      "<Key: noaa-nexrad-level2,2016/07/01/KABX/KABX20160701_063732_V06>\n",
      "<Key: noaa-nexrad-level2,2016/07/01/KABX/KABX20160701_064135_V06>\n",
      "<Key: noaa-nexrad-level2,2016/07/01/KABX/KABX20160701_064537_V06>\n",
      "<Key: noaa-nexrad-level2,2016/07/01/KABX/KABX20160701_064939_V06>\n",
      "<Key: noaa-nexrad-level2,2016/07/01/KABX/KABX20160701_065347_V06>\n",
      "<Key: noaa-nexrad-level2,2016/07/01/KABX/KABX20160701_065750_V06>\n",
      "<Key: noaa-nexrad-level2,2016/07/01/KABX/KABX20160701_070158_V06>\n",
      "<Key: noaa-nexrad-level2,2016/07/01/KABX/KABX20160701_070606_V06>\n",
      "<Key: noaa-nexrad-level2,2016/07/01/KABX/KABX20160701_071009_V06>\n",
      "<Key: noaa-nexrad-level2,2016/07/01/KABX/KABX20160701_071423_V06>\n",
      "<Key: noaa-nexrad-level2,2016/07/01/KABX/KABX20160701_071825_V06>\n",
      "<Key: noaa-nexrad-level2,2016/07/01/KABX/KABX20160701_072227_V06>\n",
      "<Key: noaa-nexrad-level2,2016/07/01/KABX/KABX20160701_072630_V06>\n",
      "<Key: noaa-nexrad-level2,2016/07/01/KABX/KABX20160701_073032_V06>\n",
      "<Key: noaa-nexrad-level2,2016/07/01/KABX/KABX20160701_073434_V06>\n",
      "<Key: noaa-nexrad-level2,2016/07/01/KABX/KABX20160701_073836_V06>\n",
      "<Key: noaa-nexrad-level2,2016/07/01/KABX/KABX20160701_074239_V06>\n",
      "<Key: noaa-nexrad-level2,2016/07/01/KABX/KABX20160701_074641_V06>\n",
      "<Key: noaa-nexrad-level2,2016/07/01/KABX/KABX20160701_075043_V06>\n",
      "<Key: noaa-nexrad-level2,2016/07/01/KABX/KABX20160701_075446_V06>\n",
      "<Key: noaa-nexrad-level2,2016/07/01/KABX/KABX20160701_075848_V06>\n",
      "<Key: noaa-nexrad-level2,2016/07/01/KABX/KABX20160701_080250_V06>\n",
      "<Key: noaa-nexrad-level2,2016/07/01/KABX/KABX20160701_080652_V06>\n",
      "<Key: noaa-nexrad-level2,2016/07/01/KABX/KABX20160701_081055_V06>\n",
      "<Key: noaa-nexrad-level2,2016/07/01/KABX/KABX20160701_081457_V06>\n",
      "<Key: noaa-nexrad-level2,2016/07/01/KABX/KABX20160701_081859_V06>\n",
      "<Key: noaa-nexrad-level2,2016/07/01/KABX/KABX20160701_082303_V06>\n",
      "<Key: noaa-nexrad-level2,2016/07/01/KABX/KABX20160701_082705_V06>\n",
      "<Key: noaa-nexrad-level2,2016/07/01/KABX/KABX20160701_083107_V06>\n",
      "<Key: noaa-nexrad-level2,2016/07/01/KABX/KABX20160701_083509_V06>\n",
      "<Key: noaa-nexrad-level2,2016/07/01/KABX/KABX20160701_083912_V06>\n",
      "<Key: noaa-nexrad-level2,2016/07/01/KABX/KABX20160701_084314_V06>\n",
      "<Key: noaa-nexrad-level2,2016/07/01/KABX/KABX20160701_084716_V06>\n",
      "<Key: noaa-nexrad-level2,2016/07/01/KABX/KABX20160701_085119_V06>\n",
      "<Key: noaa-nexrad-level2,2016/07/01/KABX/KABX20160701_085521_V06>\n",
      "<Key: noaa-nexrad-level2,2016/07/01/KABX/KABX20160701_085923_V06>\n",
      "<Key: noaa-nexrad-level2,2016/07/01/KABX/KABX20160701_090325_V06>\n",
      "<Key: noaa-nexrad-level2,2016/07/01/KABX/KABX20160701_090728_V06>\n",
      "<Key: noaa-nexrad-level2,2016/07/01/KABX/KABX20160701_091130_V06>\n",
      "<Key: noaa-nexrad-level2,2016/07/01/KABX/KABX20160701_091532_V06>\n",
      "<Key: noaa-nexrad-level2,2016/07/01/KABX/KABX20160701_091935_V06>\n",
      "<Key: noaa-nexrad-level2,2016/07/01/KABX/KABX20160701_092338_V06>\n",
      "<Key: noaa-nexrad-level2,2016/07/01/KABX/KABX20160701_092740_V06>\n",
      "<Key: noaa-nexrad-level2,2016/07/01/KABX/KABX20160701_093142_V06>\n",
      "<Key: noaa-nexrad-level2,2016/07/01/KABX/KABX20160701_093545_V06>\n",
      "<Key: noaa-nexrad-level2,2016/07/01/KABX/KABX20160701_093947_V06>\n",
      "<Key: noaa-nexrad-level2,2016/07/01/KABX/KABX20160701_094349_V06>\n",
      "<Key: noaa-nexrad-level2,2016/07/01/KABX/KABX20160701_094752_V06>\n",
      "<Key: noaa-nexrad-level2,2016/07/01/KABX/KABX20160701_095154_V06>\n",
      "<Key: noaa-nexrad-level2,2016/07/01/KABX/KABX20160701_095556_V06>\n",
      "<Key: noaa-nexrad-level2,2016/07/01/KABX/KABX20160701_095958_V06>\n",
      "<Key: noaa-nexrad-level2,2016/07/01/KABX/KABX20160701_100400_V06>\n",
      "<Key: noaa-nexrad-level2,2016/07/01/KABX/KABX20160701_100802_V06>\n",
      "<Key: noaa-nexrad-level2,2016/07/01/KABX/KABX20160701_101204_V06>\n",
      "<Key: noaa-nexrad-level2,2016/07/01/KABX/KABX20160701_101608_V06>\n",
      "<Key: noaa-nexrad-level2,2016/07/01/KABX/KABX20160701_102009_V06>\n",
      "<Key: noaa-nexrad-level2,2016/07/01/KABX/KABX20160701_102411_V06>\n",
      "<Key: noaa-nexrad-level2,2016/07/01/KABX/KABX20160701_102814_V06>\n",
      "<Key: noaa-nexrad-level2,2016/07/01/KABX/KABX20160701_103217_V06>\n",
      "<Key: noaa-nexrad-level2,2016/07/01/KABX/KABX20160701_103619_V06>\n",
      "<Key: noaa-nexrad-level2,2016/07/01/KABX/KABX20160701_104021_V06>\n",
      "<Key: noaa-nexrad-level2,2016/07/01/KABX/KABX20160701_104423_V06>\n",
      "<Key: noaa-nexrad-level2,2016/07/01/KABX/KABX20160701_104826_V06>\n",
      "<Key: noaa-nexrad-level2,2016/07/01/KABX/KABX20160701_105228_V06>\n",
      "<Key: noaa-nexrad-level2,2016/07/01/KABX/KABX20160701_105630_V06>\n",
      "<Key: noaa-nexrad-level2,2016/07/01/KABX/KABX20160701_110033_V06>\n",
      "<Key: noaa-nexrad-level2,2016/07/01/KABX/KABX20160701_110441_V06>\n",
      "<Key: noaa-nexrad-level2,2016/07/01/KABX/KABX20160701_110843_V06>\n",
      "<Key: noaa-nexrad-level2,2016/07/01/KABX/KABX20160701_111251_V06>\n",
      "<Key: noaa-nexrad-level2,2016/07/01/KABX/KABX20160701_111700_V06>\n",
      "<Key: noaa-nexrad-level2,2016/07/01/KABX/KABX20160701_112108_V06>\n",
      "<Key: noaa-nexrad-level2,2016/07/01/KABX/KABX20160701_112516_V06>\n",
      "<Key: noaa-nexrad-level2,2016/07/01/KABX/KABX20160701_112931_V06>\n",
      "<Key: noaa-nexrad-level2,2016/07/01/KABX/KABX20160701_113345_V06>\n",
      "<Key: noaa-nexrad-level2,2016/07/01/KABX/KABX20160701_113753_V06>\n",
      "<Key: noaa-nexrad-level2,2016/07/01/KABX/KABX20160701_114207_V06>\n",
      "<Key: noaa-nexrad-level2,2016/07/01/KABX/KABX20160701_114622_V06>\n",
      "<Key: noaa-nexrad-level2,2016/07/01/KABX/KABX20160701_115036_V06>\n",
      "<Key: noaa-nexrad-level2,2016/07/01/KABX/KABX20160701_115444_V06>\n",
      "<Key: noaa-nexrad-level2,2016/07/01/KABX/KABX20160701_115852_V06>\n",
      "<Key: noaa-nexrad-level2,2016/07/01/KABX/KABX20160701_120300_V06>\n",
      "<Key: noaa-nexrad-level2,2016/07/01/KABX/KABX20160701_120702_V06>\n",
      "<Key: noaa-nexrad-level2,2016/07/01/KABX/KABX20160701_121111_V06>\n",
      "<Key: noaa-nexrad-level2,2016/07/01/KABX/KABX20160701_121513_V06>\n",
      "<Key: noaa-nexrad-level2,2016/07/01/KABX/KABX20160701_121915_V06>\n",
      "<Key: noaa-nexrad-level2,2016/07/01/KABX/KABX20160701_122323_V06>\n",
      "<Key: noaa-nexrad-level2,2016/07/01/KABX/KABX20160701_122732_V06>\n",
      "<Key: noaa-nexrad-level2,2016/07/01/KABX/KABX20160701_123134_V06>\n",
      "<Key: noaa-nexrad-level2,2016/07/01/KABX/KABX20160701_123542_V06>\n",
      "<Key: noaa-nexrad-level2,2016/07/01/KABX/KABX20160701_123944_V06>\n",
      "<Key: noaa-nexrad-level2,2016/07/01/KABX/KABX20160701_124406_V06>\n",
      "<Key: noaa-nexrad-level2,2016/07/01/KABX/KABX20160701_124808_V06>\n",
      "<Key: noaa-nexrad-level2,2016/07/01/KABX/KABX20160701_125216_V06>\n",
      "<Key: noaa-nexrad-level2,2016/07/01/KABX/KABX20160701_125618_V06>\n",
      "<Key: noaa-nexrad-level2,2016/07/01/KABX/KABX20160701_130226_V06>\n",
      "<Key: noaa-nexrad-level2,2016/07/01/KABX/KABX20160701_130627_V06>\n",
      "<Key: noaa-nexrad-level2,2016/07/01/KABX/KABX20160701_131110_V06>\n",
      "<Key: noaa-nexrad-level2,2016/07/01/KABX/KABX20160701_131512_V06>\n",
      "<Key: noaa-nexrad-level2,2016/07/01/KABX/KABX20160701_131914_V06>\n",
      "<Key: noaa-nexrad-level2,2016/07/01/KABX/KABX20160701_132317_V06>\n",
      "<Key: noaa-nexrad-level2,2016/07/01/KABX/KABX20160701_132719_V06>\n",
      "<Key: noaa-nexrad-level2,2016/07/01/KABX/KABX20160701_133121_V06>\n",
      "<Key: noaa-nexrad-level2,2016/07/01/KABX/KABX20160701_133523_V06>\n",
      "<Key: noaa-nexrad-level2,2016/07/01/KABX/KABX20160701_133927_V06>\n",
      "<Key: noaa-nexrad-level2,2016/07/01/KABX/KABX20160701_134329_V06>\n",
      "<Key: noaa-nexrad-level2,2016/07/01/KABX/KABX20160701_134731_V06>\n",
      "<Key: noaa-nexrad-level2,2016/07/01/KABX/KABX20160701_135133_V06>\n",
      "<Key: noaa-nexrad-level2,2016/07/01/KABX/KABX20160701_135536_V06>\n",
      "<Key: noaa-nexrad-level2,2016/07/01/KABX/KABX20160701_135938_V06>\n",
      "<Key: noaa-nexrad-level2,2016/07/01/KABX/KABX20160701_140340_V06>\n",
      "<Key: noaa-nexrad-level2,2016/07/01/KABX/KABX20160701_140755_V06>\n",
      "<Key: noaa-nexrad-level2,2016/07/01/KABX/KABX20160701_141158_V06>\n",
      "<Key: noaa-nexrad-level2,2016/07/01/KABX/KABX20160701_141627_V06>\n",
      "<Key: noaa-nexrad-level2,2016/07/01/KABX/KABX20160701_142030_V06>\n",
      "<Key: noaa-nexrad-level2,2016/07/01/KABX/KABX20160701_142432_V06>\n",
      "<Key: noaa-nexrad-level2,2016/07/01/KABX/KABX20160701_142834_V06>\n",
      "<Key: noaa-nexrad-level2,2016/07/01/KABX/KABX20160701_143237_V06>\n",
      "<Key: noaa-nexrad-level2,2016/07/01/KABX/KABX20160701_143640_V06>\n",
      "<Key: noaa-nexrad-level2,2016/07/01/KABX/KABX20160701_144042_V06>\n",
      "<Key: noaa-nexrad-level2,2016/07/01/KABX/KABX20160701_144444_V06>\n",
      "<Key: noaa-nexrad-level2,2016/07/01/KABX/KABX20160701_144846_V06>\n",
      "<Key: noaa-nexrad-level2,2016/07/01/KABX/KABX20160701_145249_V06>\n",
      "<Key: noaa-nexrad-level2,2016/07/01/KABX/KABX20160701_145651_V06>\n",
      "<Key: noaa-nexrad-level2,2016/07/01/KABX/KABX20160701_150053_V06>\n",
      "<Key: noaa-nexrad-level2,2016/07/01/KABX/KABX20160701_150456_V06>\n",
      "<Key: noaa-nexrad-level2,2016/07/01/KABX/KABX20160701_150858_V06>\n",
      "<Key: noaa-nexrad-level2,2016/07/01/KABX/KABX20160701_151300_V06>\n",
      "<Key: noaa-nexrad-level2,2016/07/01/KABX/KABX20160701_151702_V06>\n",
      "<Key: noaa-nexrad-level2,2016/07/01/KABX/KABX20160701_152105_V06>\n",
      "<Key: noaa-nexrad-level2,2016/07/01/KABX/KABX20160701_152507_V06>\n",
      "<Key: noaa-nexrad-level2,2016/07/01/KABX/KABX20160701_152909_V06>\n",
      "<Key: noaa-nexrad-level2,2016/07/01/KABX/KABX20160701_153351_V06>\n",
      "<Key: noaa-nexrad-level2,2016/07/01/KABX/KABX20160701_153754_V06>\n",
      "<Key: noaa-nexrad-level2,2016/07/01/KABX/KABX20160701_154156_V06>\n",
      "<Key: noaa-nexrad-level2,2016/07/01/KABX/KABX20160701_154156_V06.001>\n",
      "<Key: noaa-nexrad-level2,2016/07/01/KABX/KABX20160701_154624_V06>\n",
      "<Key: noaa-nexrad-level2,2016/07/01/KABX/KABX20160701_154624_V06.001>\n",
      "<Key: noaa-nexrad-level2,2016/07/01/KABX/KABX20160701_155053_V06>\n",
      "<Key: noaa-nexrad-level2,2016/07/01/KABX/KABX20160701_155053_V06.001>\n",
      "<Key: noaa-nexrad-level2,2016/07/01/KABX/KABX20160701_155522_V06>\n",
      "<Key: noaa-nexrad-level2,2016/07/01/KABX/KABX20160701_155951_V06>\n",
      "<Key: noaa-nexrad-level2,2016/07/01/KABX/KABX20160701_160420_V06>\n",
      "<Key: noaa-nexrad-level2,2016/07/01/KABX/KABX20160701_160903_V06>\n",
      "<Key: noaa-nexrad-level2,2016/07/01/KABX/KABX20160701_161359_V06>\n",
      "<Key: noaa-nexrad-level2,2016/07/01/KABX/KABX20160701_161843_V06>\n",
      "<Key: noaa-nexrad-level2,2016/07/01/KABX/KABX20160701_162246_V06>\n",
      "<Key: noaa-nexrad-level2,2016/07/01/KABX/KABX20160701_162648_V06>\n",
      "<Key: noaa-nexrad-level2,2016/07/01/KABX/KABX20160701_163050_V06>\n",
      "<Key: noaa-nexrad-level2,2016/07/01/KABX/KABX20160701_163452_V06>\n",
      "<Key: noaa-nexrad-level2,2016/07/01/KABX/KABX20160701_163855_V06>\n",
      "<Key: noaa-nexrad-level2,2016/07/01/KABX/KABX20160701_164404_V06>\n",
      "<Key: noaa-nexrad-level2,2016/07/01/KABX/KABX20160701_164820_V06>\n",
      "<Key: noaa-nexrad-level2,2016/07/01/KABX/KABX20160701_165316_V06>\n",
      "<Key: noaa-nexrad-level2,2016/07/01/KABX/KABX20160701_165827_V06>\n",
      "<Key: noaa-nexrad-level2,2016/07/01/KABX/KABX20160701_170322_V06>\n",
      "<Key: noaa-nexrad-level2,2016/07/01/KABX/KABX20160701_170818_V06>\n",
      "<Key: noaa-nexrad-level2,2016/07/01/KABX/KABX20160701_171327_V06>\n",
      "<Key: noaa-nexrad-level2,2016/07/01/KABX/KABX20160701_171838_V06>\n",
      "<Key: noaa-nexrad-level2,2016/07/01/KABX/KABX20160701_172348_V06>\n",
      "<Key: noaa-nexrad-level2,2016/07/01/KABX/KABX20160701_172845_V06>\n",
      "<Key: noaa-nexrad-level2,2016/07/01/KABX/KABX20160701_173341_V06>\n",
      "<Key: noaa-nexrad-level2,2016/07/01/KABX/KABX20160701_173837_V06>\n",
      "<Key: noaa-nexrad-level2,2016/07/01/KABX/KABX20160701_174334_V06>\n",
      "<Key: noaa-nexrad-level2,2016/07/01/KABX/KABX20160701_174830_V06>\n",
      "<Key: noaa-nexrad-level2,2016/07/01/KABX/KABX20160701_175326_V06>\n",
      "<Key: noaa-nexrad-level2,2016/07/01/KABX/KABX20160701_175836_V06>\n",
      "<Key: noaa-nexrad-level2,2016/07/01/KABX/KABX20160701_180332_V06>\n",
      "<Key: noaa-nexrad-level2,2016/07/01/KABX/KABX20160701_180828_V06>\n",
      "<Key: noaa-nexrad-level2,2016/07/01/KABX/KABX20160701_181325_V06>\n",
      "<Key: noaa-nexrad-level2,2016/07/01/KABX/KABX20160701_181821_V06>\n",
      "<Key: noaa-nexrad-level2,2016/07/01/KABX/KABX20160701_182316_V06>\n",
      "<Key: noaa-nexrad-level2,2016/07/01/KABX/KABX20160701_182812_V06>\n",
      "<Key: noaa-nexrad-level2,2016/07/01/KABX/KABX20160701_183315_V06>\n",
      "<Key: noaa-nexrad-level2,2016/07/01/KABX/KABX20160701_183817_V06>\n",
      "<Key: noaa-nexrad-level2,2016/07/01/KABX/KABX20160701_184328_V06>\n",
      "<Key: noaa-nexrad-level2,2016/07/01/KABX/KABX20160701_184850_V06>\n",
      "<Key: noaa-nexrad-level2,2016/07/01/KABX/KABX20160701_185400_V06>\n",
      "<Key: noaa-nexrad-level2,2016/07/01/KABX/KABX20160701_185923_V06>\n",
      "<Key: noaa-nexrad-level2,2016/07/01/KABX/KABX20160701_190433_V06>\n",
      "<Key: noaa-nexrad-level2,2016/07/01/KABX/KABX20160701_191003_V06>\n",
      "<Key: noaa-nexrad-level2,2016/07/01/KABX/KABX20160701_191532_V06>\n",
      "<Key: noaa-nexrad-level2,2016/07/01/KABX/KABX20160701_192102_V06>\n",
      "<Key: noaa-nexrad-level2,2016/07/01/KABX/KABX20160701_192632_V06>\n",
      "<Key: noaa-nexrad-level2,2016/07/01/KABX/KABX20160701_193201_V06>\n",
      "<Key: noaa-nexrad-level2,2016/07/01/KABX/KABX20160701_193731_V06>\n",
      "<Key: noaa-nexrad-level2,2016/07/01/KABX/KABX20160701_194300_V06>\n",
      "<Key: noaa-nexrad-level2,2016/07/01/KABX/KABX20160701_194829_V06>\n",
      "<Key: noaa-nexrad-level2,2016/07/01/KABX/KABX20160701_195359_V06>\n",
      "<Key: noaa-nexrad-level2,2016/07/01/KABX/KABX20160701_195929_V06>\n",
      "<Key: noaa-nexrad-level2,2016/07/01/KABX/KABX20160701_200439_V06>\n",
      "<Key: noaa-nexrad-level2,2016/07/01/KABX/KABX20160701_201009_V06>\n",
      "<Key: noaa-nexrad-level2,2016/07/01/KABX/KABX20160701_201539_V06>\n",
      "<Key: noaa-nexrad-level2,2016/07/01/KABX/KABX20160701_202108_V06>\n",
      "<Key: noaa-nexrad-level2,2016/07/01/KABX/KABX20160701_202638_V06>\n",
      "<Key: noaa-nexrad-level2,2016/07/01/KABX/KABX20160701_203149_V06>\n",
      "<Key: noaa-nexrad-level2,2016/07/01/KABX/KABX20160701_203659_V06>\n",
      "<Key: noaa-nexrad-level2,2016/07/01/KABX/KABX20160701_204228_V06>\n",
      "<Key: noaa-nexrad-level2,2016/07/01/KABX/KABX20160701_204758_V06>\n",
      "<Key: noaa-nexrad-level2,2016/07/01/KABX/KABX20160701_205327_V06>\n",
      "<Key: noaa-nexrad-level2,2016/07/01/KABX/KABX20160701_205856_V06>\n",
      "<Key: noaa-nexrad-level2,2016/07/01/KABX/KABX20160701_210559_V06>\n",
      "<Key: noaa-nexrad-level2,2016/07/01/KABX/KABX20160701_211129_V06>\n",
      "<Key: noaa-nexrad-level2,2016/07/01/KABX/KABX20160701_211640_V06>\n",
      "<Key: noaa-nexrad-level2,2016/07/01/KABX/KABX20160701_212150_V06>\n",
      "<Key: noaa-nexrad-level2,2016/07/01/KABX/KABX20160701_212700_V06>\n",
      "<Key: noaa-nexrad-level2,2016/07/01/KABX/KABX20160701_213211_V06>\n",
      "<Key: noaa-nexrad-level2,2016/07/01/KABX/KABX20160701_213211_V06.001>\n",
      "<Key: noaa-nexrad-level2,2016/07/01/KABX/KABX20160701_213740_V06>\n",
      "<Key: noaa-nexrad-level2,2016/07/01/KABX/KABX20160701_213740_V06.001>\n",
      "<Key: noaa-nexrad-level2,2016/07/01/KABX/KABX20160701_214250_V06>\n",
      "<Key: noaa-nexrad-level2,2016/07/01/KABX/KABX20160701_214250_V06.001>\n",
      "<Key: noaa-nexrad-level2,2016/07/01/KABX/KABX20160701_214801_V06>\n",
      "<Key: noaa-nexrad-level2,2016/07/01/KABX/KABX20160701_214801_V06.001>\n",
      "<Key: noaa-nexrad-level2,2016/07/01/KABX/KABX20160701_215311_V06>\n",
      "<Key: noaa-nexrad-level2,2016/07/01/KABX/KABX20160701_215311_V06.001>\n",
      "<Key: noaa-nexrad-level2,2016/07/01/KABX/KABX20160701_215840_V06>\n",
      "<Key: noaa-nexrad-level2,2016/07/01/KABX/KABX20160701_215840_V06.001>\n",
      "<Key: noaa-nexrad-level2,2016/07/01/KABX/KABX20160701_220411_V06>\n",
      "<Key: noaa-nexrad-level2,2016/07/01/KABX/KABX20160701_220411_V06.001>\n",
      "<Key: noaa-nexrad-level2,2016/07/01/KABX/KABX20160701_220941_V06>\n",
      "<Key: noaa-nexrad-level2,2016/07/01/KABX/KABX20160701_220941_V06.001>\n",
      "<Key: noaa-nexrad-level2,2016/07/01/KABX/KABX20160701_221451_V06>\n",
      "<Key: noaa-nexrad-level2,2016/07/01/KABX/KABX20160701_221451_V06.001>\n",
      "<Key: noaa-nexrad-level2,2016/07/01/KABX/KABX20160701_222002_V06>\n",
      "<Key: noaa-nexrad-level2,2016/07/01/KABX/KABX20160701_222002_V06.001>\n",
      "<Key: noaa-nexrad-level2,2016/07/01/KABX/KABX20160701_222525_V06>\n",
      "<Key: noaa-nexrad-level2,2016/07/01/KABX/KABX20160701_222525_V06.001>\n",
      "<Key: noaa-nexrad-level2,2016/07/01/KABX/KABX20160701_223048_V06>\n",
      "<Key: noaa-nexrad-level2,2016/07/01/KABX/KABX20160701_223617_V06>\n",
      "<Key: noaa-nexrad-level2,2016/07/01/KABX/KABX20160701_224147_V06>\n",
      "<Key: noaa-nexrad-level2,2016/07/01/KABX/KABX20160701_224717_V06>\n",
      "<Key: noaa-nexrad-level2,2016/07/01/KABX/KABX20160701_225246_V06>\n",
      "<Key: noaa-nexrad-level2,2016/07/01/KABX/KABX20160701_225742_V06>\n",
      "<Key: noaa-nexrad-level2,2016/07/01/KABX/KABX20160701_230239_V06>\n",
      "<Key: noaa-nexrad-level2,2016/07/01/KABX/KABX20160701_230721_V06>\n",
      "<Key: noaa-nexrad-level2,2016/07/01/KABX/KABX20160701_231210_V06>\n",
      "<Key: noaa-nexrad-level2,2016/07/01/KABX/KABX20160701_231706_V06>\n",
      "<Key: noaa-nexrad-level2,2016/07/01/KABX/KABX20160701_232154_V06>\n",
      "<Key: noaa-nexrad-level2,2016/07/01/KABX/KABX20160701_232642_V06>\n",
      "<Key: noaa-nexrad-level2,2016/07/01/KABX/KABX20160701_233145_V06>\n",
      "<Key: noaa-nexrad-level2,2016/07/01/KABX/KABX20160701_233647_V06>\n",
      "<Key: noaa-nexrad-level2,2016/07/01/KABX/KABX20160701_234149_V06>\n",
      "<Key: noaa-nexrad-level2,2016/07/01/KABX/KABX20160701_234646_V06>\n",
      "<Key: noaa-nexrad-level2,2016/07/01/KABX/KABX20160701_235216_V06>\n",
      "<Key: noaa-nexrad-level2,2016/07/01/KABX/KABX20160701_235746_V06>\n"
     ]
    }
   ],
   "source": [
    "# s3key = bucket.get_key('2016/07/04/KABX/KABX20160702_100000_V06.gz')\n",
    "for key in bucket.list(prefix='2016/07/01/KABX/'):\n",
    "    print(key)"
   ]
  },
  {
   "cell_type": "code",
   "execution_count": 4,
   "metadata": {
    "collapsed": false
   },
   "outputs": [],
   "source": [
    "s3key = bucket.get_key('2016/07/01/KABX/KABX20160701_014807_V06')"
   ]
  },
  {
   "cell_type": "code",
   "execution_count": 5,
   "metadata": {
    "collapsed": false
   },
   "outputs": [],
   "source": [
    "localfile = tempfile.NamedTemporaryFile()\n",
    "s3key.get_contents_to_filename(localfile.name)\n",
    "radar = pyart.io.read_nexrad_archive(localfile.name)"
   ]
  },
  {
   "cell_type": "code",
   "execution_count": 6,
   "metadata": {
    "collapsed": false
   },
   "outputs": [],
   "source": [
    "# radar.info()"
   ]
  },
  {
   "cell_type": "code",
   "execution_count": null,
   "metadata": {
    "collapsed": false
   },
   "outputs": [],
   "source": [
    "# dates = pd.date_range(start='2016-07-04 10:00:00', end='2016-07-04 10:05:00', freq='10min')\n",
    "# files = ['2016/07/04/KABX/KABX' + \n",
    "#          str(i.date()).replace('-', '') + '_' + \n",
    "#          str(i.time()).replace(':', '') + '.gz' for i in dates]\n",
    "# radars = []\n",
    "# for f in files:\n",
    "#     print(f)\n",
    "#     s3key = bucket.get_key(f)\n",
    "#     localfile = tempfile.NamedTemporaryFile()\n",
    "#     s3key.get_contents_to_filename(localfile.name)\n",
    "#     radars.append(pyart.io.read_nexrad_archive(localfile.name))"
   ]
  },
  {
   "cell_type": "code",
   "execution_count": null,
   "metadata": {
    "collapsed": false
   },
   "outputs": [],
   "source": [
    "grid = pyart.map.grid_from_radars(radar, fields=['reflectivity'],\n",
    "                                 grid_shape=(50, 250, 250),\n",
    "                                 grid_limits=((0, 15000.0),(-500000, 500000), (-500000, 500000)))"
   ]
  },
  {
   "cell_type": "code",
   "execution_count": null,
   "metadata": {
    "collapsed": false
   },
   "outputs": [],
   "source": [
    "for key in grid.fields:\n",
    "    print(key)"
   ]
  },
  {
   "cell_type": "code",
   "execution_count": null,
   "metadata": {
    "collapsed": true
   },
   "outputs": [],
   "source": [
    "refl = grid.fields['reflectivity']"
   ]
  },
  {
   "cell_type": "code",
   "execution_count": null,
   "metadata": {
    "collapsed": false
   },
   "outputs": [],
   "source": [
    "grid.nz, grid.ny, grid.nx"
   ]
  },
  {
   "cell_type": "code",
   "execution_count": null,
   "metadata": {
    "collapsed": false
   },
   "outputs": [],
   "source": [
    "for lat, lon, alt, in zip(grid.point_latitude['data'].ravel(), \n",
    "                          grid.point_longitude['data'].ravel(), \n",
    "                          grid.point_altitude['data'].ravel()):\n",
    "    pass"
   ]
  },
  {
   "cell_type": "code",
   "execution_count": null,
   "metadata": {
    "collapsed": false
   },
   "outputs": [],
   "source": [
    "refl['data'].filled(np.nan)"
   ]
  },
  {
   "cell_type": "code",
   "execution_count": null,
   "metadata": {
    "collapsed": false
   },
   "outputs": [],
   "source": [
    "import matplotlib.pyplot as plt, numpy as np\n",
    "from mpl_toolkits.mplot3d import Axes3D\n",
    "\n",
    "\n",
    "z, y, x = grid.point_altitude['data'].ravel(), grid.point_longitude['data'].ravel(), grid.point_latitude['data'].ravel()\n",
    "cm = grid.fields['reflectivity']['data'].ravel()\n",
    "# z, y, x = np.ma.getdata(refl['data']).nonzero()\n",
    "fig = plt.figure()\n",
    "ax = fig.add_subplot(111, projection='3d')\n",
    "ax.set\n",
    "p = ax.scatter(x, y, z, c=cm, cmap=matplotlib.cm.jet)\n",
    "_ = ax.scatter(35.0549, -106.5433, 0, c='black', marker='s')\n",
    "fig.colorbar(p)\n",
    "ax.set_xlabel('latitude')\n",
    "ax.set_ylabel('longitude')\n",
    "ax.set_zlabel('altitude')\n",
    "plt.show()"
   ]
  },
  {
   "cell_type": "code",
   "execution_count": null,
   "metadata": {
    "collapsed": true
   },
   "outputs": [],
   "source": [
    "df = pd.DataFrame()\n",
    "alt, long, lat = grid.point_altitude['data'].ravel(), grid.point_longitude['data'].ravel(), grid.point_latitude['data'].ravel()\n",
    "refl = grid.fields['reflectivity']['data'].ravel()\n",
    "\n",
    "df['lat'] = lat\n",
    "df['lon'] = long\n",
    "df['alt'] = alt\n",
    "df['refl'] = refl"
   ]
  },
  {
   "cell_type": "code",
   "execution_count": null,
   "metadata": {
    "collapsed": false
   },
   "outputs": [],
   "source": [
    "df.head()"
   ]
  },
  {
   "cell_type": "code",
   "execution_count": null,
   "metadata": {
    "collapsed": false
   },
   "outputs": [],
   "source": [
    "df.info()"
   ]
  },
  {
   "cell_type": "code",
   "execution_count": null,
   "metadata": {
    "collapsed": false
   },
   "outputs": [],
   "source": [
    "tmp = df[(df['lat'] > 35) & (df['lat'] < 36) & \n",
    "         (df['lon'] > -107) & (df['lon'] < -106)]"
   ]
  },
  {
   "cell_type": "code",
   "execution_count": null,
   "metadata": {
    "collapsed": false,
    "scrolled": true
   },
   "outputs": [],
   "source": [
    "for unique_lat, group in tmp.groupby('lat'):\n",
    "    print(group.head())\n",
    "    print(group.tail())\n",
    "    print('----' * 10)"
   ]
  },
  {
   "cell_type": "code",
   "execution_count": null,
   "metadata": {
    "collapsed": true
   },
   "outputs": [],
   "source": [
    "alts = df[(df['alt'] == 1813)]"
   ]
  },
  {
   "cell_type": "code",
   "execution_count": null,
   "metadata": {
    "collapsed": false
   },
   "outputs": [],
   "source": [
    "alts.head()"
   ]
  },
  {
   "cell_type": "code",
   "execution_count": null,
   "metadata": {
    "collapsed": false
   },
   "outputs": [],
   "source": [
    "fig, ax = plt.subplots()\n",
    "p = ax.scatter(alts['lon'].values, alts['lat'].values, c=alts['refl'].values, cmap=matplotlib.cm.jet, vmin=0)\n",
    "ax.scatter( -106.5433, 35.0549, marker='x', c='yellow', s=100)\n",
    "circle = plt.Circle((-106.5433, 35.0549), .5, color='yellow', fill=None)\n",
    "ax.add_artist(circle)\n",
    "fig.colorbar(p)"
   ]
  },
  {
   "cell_type": "code",
   "execution_count": null,
   "metadata": {
    "collapsed": true
   },
   "outputs": [],
   "source": []
  },
  {
   "cell_type": "code",
   "execution_count": null,
   "metadata": {
    "collapsed": true
   },
   "outputs": [],
   "source": []
  },
  {
   "cell_type": "code",
   "execution_count": null,
   "metadata": {
    "collapsed": false
   },
   "outputs": [],
   "source": [
    "vals = grid.get_point_longitude_latitude(level=5)"
   ]
  },
  {
   "cell_type": "code",
   "execution_count": null,
   "metadata": {
    "collapsed": false
   },
   "outputs": [],
   "source": [
    "len(vals)"
   ]
  },
  {
   "cell_type": "code",
   "execution_count": null,
   "metadata": {
    "collapsed": false
   },
   "outputs": [],
   "source": [
    "a, b = vals[0][0][0], vals[1][0][0]"
   ]
  },
  {
   "cell_type": "code",
   "execution_count": null,
   "metadata": {
    "collapsed": false
   },
   "outputs": [],
   "source": [
    "print(a, b)"
   ]
  },
  {
   "cell_type": "code",
   "execution_count": null,
   "metadata": {
    "collapsed": false
   },
   "outputs": [],
   "source": [
    "print(type(vals))"
   ]
  },
  {
   "cell_type": "code",
   "execution_count": null,
   "metadata": {
    "collapsed": false
   },
   "outputs": [],
   "source": [
    "for i in vals:\n",
    "    print(type(i))"
   ]
  },
  {
   "cell_type": "code",
   "execution_count": null,
   "metadata": {
    "collapsed": false
   },
   "outputs": [],
   "source": [
    "display = pyart.graph.GridMapDisplay(grid)\n",
    "fig = plt.figure()\n",
    "\n",
    "# panel sizes\n",
    "map_panel_axes = [0.05, 0.05, .4, .80]\n",
    "x_cut_panel_axes = [0.55, 0.10, .4, .25]\n",
    "y_cut_panel_axes = [0.55, 0.50, .4, .25]\n",
    "\n",
    "# parameters\n",
    "level = 5\n",
    "vmin = -8\n",
    "vmax = 64\n",
    "lat = 35\n",
    "lon = -106\n",
    "\n",
    "# panel 1, basemap, radar reflectivity and NARR overlay\n",
    "# ax1 = fig.add_axes(map_panel_axes)\n",
    "display.plot_basemap()#lon_lines=np.arange)#(-110, -104, 1))\n",
    "display.plot_grid('reflectivity', level=level, vmin=vmin, vmax=vmax,\n",
    "                 cmap = pyart.graph.cm.NWSRef)\n",
    "display.plot_crosshairs(lon=lon, lat=lat)\n",
    "# display.plot_crosshairs(lon=a, lat=b)"
   ]
  },
  {
   "cell_type": "code",
   "execution_count": null,
   "metadata": {
    "collapsed": false
   },
   "outputs": [],
   "source": [
    "vals = radar.get_field(0, 'reflectivity')"
   ]
  },
  {
   "cell_type": "code",
   "execution_count": null,
   "metadata": {
    "collapsed": false
   },
   "outputs": [],
   "source": [
    "vals.shape"
   ]
  },
  {
   "cell_type": "code",
   "execution_count": null,
   "metadata": {
    "collapsed": false
   },
   "outputs": [],
   "source": [
    "import numpy as np\n",
    "import pyart\n",
    "import pyproj\n",
    "\n",
    "\n",
    "def find_x_y_displacement(radar, longitude, latitude):\n",
    "    \"\"\" Return the x and y displacement (in meters) from a radar location. \"\"\"\n",
    "    # longitude and latitude in degrees\n",
    "    lat_0 = radar.latitude['data'][0]\n",
    "    lon_0 = radar.longitude['data'][0]\n",
    "    proj = pyproj.Proj(proj='aeqd', lon_0=lon_0, lat_0=lat_0)\n",
    "    return proj(longitude, latitude)\n",
    "\n",
    "\n",
    "def find_nearest_gate(radar, longitude, latitude, altitude):\n",
    "    \"\"\" Return the indices of the nearest gate to a given point. \"\"\"\n",
    "    # longitude and latitude in degrees, altitude in meters\n",
    "    gate_x = radar.gate_x['data']\n",
    "    gate_y = radar.gate_y['data']\n",
    "    gate_z = radar.gate_z['data']\n",
    "\n",
    "    x_disp, y_disp = find_x_y_displacement(radar, longitude, latitude)\n",
    "    distances = np.sqrt(\n",
    "        (gate_x-x_disp)**2. + (gate_y-y_disp)**2. + (gate_z-altitude)**2.)\n",
    "    return np.unravel_index(distances.argmin(), distances.shape)\n",
    "\n",
    "\n",
    "def interpolate_single_point(radar, longitude, latitude, altitude):\n",
    "    \"\"\" Interpolate a single grid point at a given location. \"\"\"\n",
    "    x_disp, y_disp = find_x_y_displacement(radar, longitude, latitude)\n",
    "    grid = pyart.map.grid_from_radars(\n",
    "        (radar,),\n",
    "        gridding_algo='map_gates_to_grid',\n",
    "        grid_shape=(1, 1, 1),\n",
    "        grid_limits=((altitude, 0), (y_disp, 25000.0), (x_disp, 25000.0)),\n",
    "        fields=['reflectivity'])\n",
    "    return grid\n",
    "\n",
    "\n",
    "# read in the file\n",
    "# filename = 'RADAR_FILE'\n",
    "# radar = pyart.io.read(filename)\n",
    "\n",
    "latitude = 34.1    # latitude (in degrees) to find reflectivity at or near\n",
    "longitude = -108.9  # longitude (in degrees) to find reflectivity at or near\n",
    "altitude = 330       # altitude (in meters) to find reflectivity at or near\n",
    "\n",
    "# find nearest gate\n",
    "ray, gate = find_nearest_gate(radar, longitude, latitude, altitude)\n",
    "gate_latitude = radar.gate_latitude['data'][ray, gate]\n",
    "gate_longitude = radar.gate_longitude['data'][ray, gate]\n",
    "gate_altitude = radar.gate_altitude['data'][ray, gate]\n",
    "gate_reflectivity = radar.fields['reflectivity']['data'][ray, gate]\n",
    "print(\"-----------------------\")\n",
    "print(\"Nearest gate:\")\n",
    "print(\"Latitude:\", gate_latitude)\n",
    "print(\"Longitude:\", gate_longitude)\n",
    "print(\"Altitude:\", gate_altitude)\n",
    "print(\"Reflectivity:\", gate_reflectivity)\n",
    "\n",
    "# interpolate around gate\n",
    "grid = interpolate_single_point(radar, longitude, latitude, altitude)\n",
    "# pyart.io.add_2d_latlon_axis(grid)\n",
    "# pixel_latitude = grid.axes['latitude']['data'][0, 0]\n",
    "# pixel_longitude = grid.axes['longitude']['data'][0, 0]\n",
    "# pixel_altitude = grid.axes['z_disp']['data'][0]\n",
    "# pixel_reflectivity = grid.fields['reflectivity']['data'][0, 0]#\n",
    "\n",
    "# print(\"-----------------------\")\n",
    "# print(\"Interpolated pixel:\")\n",
    "# print(\"Latitude:\", pixel_latitude)\n",
    "# print(\"Longitude:\", pixel_longitude)\n",
    "# print(\"Altitude:\", pixel_altitude)\n",
    "# print(\"Reflectivity:\", pixel_reflectivity)"
   ]
  },
  {
   "cell_type": "code",
   "execution_count": null,
   "metadata": {
    "collapsed": true
   },
   "outputs": [],
   "source": []
  }
 ],
 "metadata": {
  "kernelspec": {
   "display_name": "Python 3",
   "language": "python",
   "name": "python3"
  },
  "language_info": {
   "codemirror_mode": {
    "name": "ipython",
    "version": 3
   },
   "file_extension": ".py",
   "mimetype": "text/x-python",
   "name": "python",
   "nbconvert_exporter": "python",
   "pygments_lexer": "ipython3",
   "version": "3.5.2"
  }
 },
 "nbformat": 4,
 "nbformat_minor": 2
}
